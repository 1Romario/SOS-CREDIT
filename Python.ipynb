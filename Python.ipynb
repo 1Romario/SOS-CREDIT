{
 "cells": [
  {
   "cell_type": "markdown",
   "id": "bad99091-dfdc-4d52-bd56-fb638ef455ef",
   "metadata": {},
   "source": [
    "# 1"
   ]
  },
  {
   "cell_type": "code",
   "execution_count": 11,
   "id": "ffaf8883-f25c-45eb-b8d1-21cc096da849",
   "metadata": {},
   "outputs": [],
   "source": [
    "def polindrom(a, b):\n",
    "    returnvalue = 'false'\n",
    "    if len(a) == len(b):\n",
    "        a_list = list(a)\n",
    "        b_list = list(b)        \n",
    "        returnvalue = (sorted(a) == sorted(b))\n",
    "    return returnvalue"
   ]
  },
  {
   "cell_type": "code",
   "execution_count": 12,
   "id": "547a6059-56f0-4b0f-826c-68b1ff64448d",
   "metadata": {},
   "outputs": [
    {
     "data": {
      "text/plain": [
       "'false'"
      ]
     },
     "execution_count": 12,
     "metadata": {},
     "output_type": "execute_result"
    }
   ],
   "source": [
    "polindrom('R oma', 'Roma')"
   ]
  },
  {
   "cell_type": "markdown",
   "id": "a74ab611-17e8-4b6e-ac24-1426fb3c395e",
   "metadata": {},
   "source": [
    "# 2"
   ]
  },
  {
   "cell_type": "code",
   "execution_count": 4,
   "id": "eee432c1-4609-4005-b800-a19dbf9643d1",
   "metadata": {},
   "outputs": [],
   "source": [
    "def input_str(k):  \n",
    "    ret = \"\"\n",
    "    l = len(k)\n",
    "    if l == 0:\n",
    "        return \"\"\n",
    "    if l == 1:\n",
    "        return k + \"1\"\n",
    "    last = k[0]\n",
    "    cnt = 1\n",
    "    i = 1\n",
    "    while i < l:\n",
    "        if k[i] == k[i - 1]: # check it is the same letter\n",
    "            cnt += 1\n",
    "        else:\n",
    "            ret = ret + k[i - 1] + str(cnt) # if not, store the previous data\n",
    "            cnt = 1\n",
    "        i += 1\n",
    "    ret = ret + k[i - 1] + str(cnt)\n",
    "    if len(ret) > len (k):\n",
    "        return k\n",
    "    else:\n",
    "        return ret"
   ]
  },
  {
   "cell_type": "code",
   "execution_count": 5,
   "id": "ddd55603-a005-4d39-a2f8-68bfd23c9e4d",
   "metadata": {},
   "outputs": [
    {
     "data": {
      "text/plain": [
       "'a2b1c5a3'"
      ]
     },
     "execution_count": 5,
     "metadata": {},
     "output_type": "execute_result"
    }
   ],
   "source": [
    "input_str ('aabcccccaaa')"
   ]
  },
  {
   "cell_type": "markdown",
   "id": "1f159ec3-45ea-48df-a363-967f4e22cc27",
   "metadata": {},
   "source": [
    "# 3"
   ]
  },
  {
   "cell_type": "code",
   "execution_count": 15,
   "id": "1f102dcc-5e3e-4c9f-a3a2-00c9b1c03553",
   "metadata": {},
   "outputs": [],
   "source": [
    "import random\n",
    "def new_file():\n",
    "    a = int(input(f'Введите количество строк:'))\n",
    "    with open('input.txt', 'w', encoding='utf-8') as file:\n",
    "        for i in range(a):\n",
    "            num = random.random()\n",
    "            file.write(str(num) + '\\n')"
   ]
  },
  {
   "cell_type": "code",
   "execution_count": 16,
   "id": "63a7b4e6-5075-41c4-b09c-1bf0df282120",
   "metadata": {},
   "outputs": [
    {
     "name": "stdin",
     "output_type": "stream",
     "text": [
      "Введите количество строк: 200\n"
     ]
    }
   ],
   "source": [
    "new_file()"
   ]
  },
  {
   "cell_type": "code",
   "execution_count": 19,
   "id": "f6cd580f-6a0b-4f0e-8623-ab41e48ebd2b",
   "metadata": {},
   "outputs": [],
   "source": [
    "def read_file():\n",
    "    my_file = open(\"input.txt\", \"r\", encoding=\"utf8\")\n",
    "    sum_1 = sum(1 for line in open(\"input.txt\", \"r\", encoding=\"utf8\"))\n",
    "    s = int(input(f'Введите количество последних строк:'))\n",
    "    long = int(sum_1-s)\n",
    "    lines = my_file.readlines()[long:]\n",
    "    print(lines)"
   ]
  },
  {
   "cell_type": "code",
   "execution_count": 20,
   "id": "22d78ac3-3383-4050-a5bc-3912f307dbf7",
   "metadata": {},
   "outputs": [
    {
     "name": "stdin",
     "output_type": "stream",
     "text": [
      "Введите количество последних строк: 50\n"
     ]
    },
    {
     "name": "stdout",
     "output_type": "stream",
     "text": [
      "['0.5547101609374069\\n', '0.315383325240019\\n', '0.9534539810050555\\n', '0.4716180553232664\\n', '0.34101261543043915\\n', '0.4346551215050285\\n', '0.19651743044873382\\n', '0.6256586299110908\\n', '0.6068187917183834\\n', '0.0866455436028074\\n', '0.871495593538106\\n', '0.638806326234815\\n', '0.8459499725784272\\n', '0.5563970477930993\\n', '0.6551918058183467\\n', '0.058576073694942665\\n', '0.19936705763546303\\n', '0.7092045404934167\\n', '0.799084709837444\\n', '0.9266205518472924\\n', '0.4988691282357167\\n', '0.9659995986680534\\n', '0.6645709667018803\\n', '0.7231294471122911\\n', '0.3280659025033966\\n', '0.48160399148597266\\n', '0.35780118997476573\\n', '0.6625205261006266\\n', '0.9981816747199548\\n', '0.3720374048188777\\n', '0.09433184349738977\\n', '0.5562115420694103\\n', '0.9219490715078045\\n', '0.8562864641618074\\n', '0.5450191787551918\\n', '0.40412026827381187\\n', '0.07367241362401711\\n', '0.4109623255678737\\n', '0.9860503323455913\\n', '0.35633929442482215\\n', '0.3418337166600749\\n', '0.38873389765627175\\n', '0.6452000158744955\\n', '0.1590861673942845\\n', '0.4578823911286972\\n', '0.5113987474967644\\n', '0.4299068967609997\\n', '0.7023515090548247\\n', '0.5720840626151026\\n', '0.922082577090207\\n']\n"
     ]
    }
   ],
   "source": [
    "read_file()"
   ]
  }
 ],
 "metadata": {
  "kernelspec": {
   "display_name": "Python 3 (ipykernel)",
   "language": "python",
   "name": "python3"
  },
  "language_info": {
   "codemirror_mode": {
    "name": "ipython",
    "version": 3
   },
   "file_extension": ".py",
   "mimetype": "text/x-python",
   "name": "python",
   "nbconvert_exporter": "python",
   "pygments_lexer": "ipython3",
   "version": "3.8.10"
  }
 },
 "nbformat": 4,
 "nbformat_minor": 5
}
